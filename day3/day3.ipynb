{
 "cells": [
  {
   "cell_type": "code",
   "execution_count": null,
   "metadata": {},
   "outputs": [],
   "source": [
    "print(\"Enter two complex numbers like a+bj for subtraction:\")\n",
    "v1 = complex(input())\n",
    "v2 = complex(input())\n",
    "print(\"Subtract =\", v1 - v2)"
   ]
  },
  {
   "cell_type": "code",
   "execution_count": null,
   "metadata": {},
   "outputs": [],
   "source": [
    "a=int(input(\"enter number for fourth root: \"))\n",
    "b=a**0.25\n",
    "print(b)"
   ]
  },
  {
   "cell_type": "code",
   "execution_count": null,
   "metadata": {},
   "outputs": [],
   "source": [
    "x = int(input(\"Enter the 1st number: \"))\n",
    "y = int(input(\"Enter the 2nd number: \"))\n",
    "temvariable = x\n",
    "x = y\n",
    "y = temvariable\n",
    "print('The value of x after swapping: {}', x)\n",
    "print('The value of y after swapping: {}', y)"
   ]
  },
  {
   "cell_type": "code",
   "execution_count": null,
   "metadata": {},
   "outputs": [],
   "source": [
    "x = int(input(\"Enter the 1st number: \"))\n",
    "y = int(input(\"Enter the 2nd number: \"))\n",
    "print(\"Value x : \", x,y) \n",
    "x, y = y, x  \n",
    "print (\"After swapping: \") \n",
    "print(\"Value of x : \", x,y)"
   ]
  },
  {
   "cell_type": "code",
   "execution_count": null,
   "metadata": {},
   "outputs": [],
   "source": [
    "value=int(input(\"Enter the 1st number: \"))\n",
    "kelvin=273.5 + ((value - 32.0) * (5.0/9.0))\n",
    "celsius = (value - 32) * 5.0/9.0\n",
    "print(\"fahrenheit in Kelvin\",kelvin)\n",
    "print(\"fahrenheit in celsius\",celsius)"
   ]
  },
  {
   "cell_type": "code",
   "execution_count": null,
   "metadata": {},
   "outputs": [],
   "source": [
    "print(type(1234567))\n",
    "print(type(24.05))\n",
    "print(type(6+4j))\n",
    "print(type(\"hello letsupgrade\"))\n",
    "print(type([\"AI\",\"ML\",\"DL\"]))\n",
    "print(type((1,2,3,4,5,6)))\n",
    "print(type({1:\"ABC\", 2:\"DEF\", 3:\"GHI\"}))\n",
    "print(type(True))\n",
    "print(type(frozenset({\"AI\", \"ML\", \"DL\"})))\n",
    "print(type(b\"Praveen\"))\n",
    "print(type(bytearray(10)))\n",
    "print(type(range(20)))\n",
    "print(type(memoryview(bytes(2))))"
   ]
  },
  {
   "cell_type": "markdown",
   "metadata": {},
   "source": [
    "register github and upload files inthe repository as .ipynb file"
   ]
  },
  {
   "cell_type": "code",
   "execution_count": null,
   "metadata": {},
   "outputs": [],
   "source": []
  }
 ],
 "metadata": {
  "kernelspec": {
   "display_name": "Python 3",
   "language": "python",
   "name": "python3"
  },
  "language_info": {
   "codemirror_mode": {
    "name": "ipython",
    "version": 3
   },
   "file_extension": ".py",
   "mimetype": "text/x-python",
   "name": "python",
   "nbconvert_exporter": "python",
   "pygments_lexer": "ipython3",
   "version": "3.8.3"
  }
 },
 "nbformat": 4,
 "nbformat_minor": 4
}
