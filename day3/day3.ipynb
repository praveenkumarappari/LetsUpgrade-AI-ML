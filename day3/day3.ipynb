{
 "cells": [
  {
   "cell_type": "code",
   "execution_count": 1,
   "metadata": {},
   "outputs": [
    {
     "name": "stdout",
     "output_type": "stream",
     "text": [
      "Enter two complex numbers like a+bj for subtraction:\n",
      "8+5j\n",
      "5+4j\n",
      "Subtract = (3+1j)\n"
     ]
    }
   ],
   "source": [
    "print(\"Enter two complex numbers like a+bj for subtraction:\")\n",
    "v1 = complex(input())\n",
    "v2 = complex(input())\n",
    "print(\"Subtract =\", v1 - v2)"
   ]
  },
  {
   "cell_type": "code",
   "execution_count": 2,
   "metadata": {},
   "outputs": [
    {
     "name": "stdout",
     "output_type": "stream",
     "text": [
      "enter number for fourth root: 650\n",
      "5.049267032744845\n"
     ]
    }
   ],
   "source": [
    "a=int(input(\"enter number for fourth root: \"))\n",
    "b=a**0.25\n",
    "print(b)"
   ]
  },
  {
   "cell_type": "code",
   "execution_count": 3,
   "metadata": {},
   "outputs": [
    {
     "name": "stdout",
     "output_type": "stream",
     "text": [
      "Enter the 1st number: 10\n",
      "Enter the 2nd number: 20\n",
      "The value of x after swapping: {} 20\n",
      "The value of y after swapping: {} 10\n"
     ]
    }
   ],
   "source": [
    "x = int(input(\"Enter the 1st number: \"))\n",
    "y = int(input(\"Enter the 2nd number: \"))\n",
    "temvariable = x\n",
    "x = y\n",
    "y = temvariable\n",
    "print('The value of x after swapping: {}', x)\n",
    "print('The value of y after swapping: {}', y)"
   ]
  },
  {
   "cell_type": "code",
   "execution_count": 4,
   "metadata": {},
   "outputs": [
    {
     "name": "stdout",
     "output_type": "stream",
     "text": [
      "Enter the 1st number: 15\n",
      "Enter the 2nd number: 20\n",
      "Value x :  15 20\n",
      "After swapping: \n",
      "Value of x :  20 15\n"
     ]
    }
   ],
   "source": [
    "x = int(input(\"Enter the 1st number: \"))\n",
    "y = int(input(\"Enter the 2nd number: \"))\n",
    "print(\"Value x : \", x,y) \n",
    "x, y = y, x  \n",
    "print (\"After swapping: \") \n",
    "print(\"Value of x : \", x,y)"
   ]
  },
  {
   "cell_type": "code",
   "execution_count": 5,
   "metadata": {},
   "outputs": [
    {
     "name": "stdout",
     "output_type": "stream",
     "text": [
      "Enter the 1st number: 100\n",
      "fahrenheit in Kelvin 311.27777777777777\n",
      "fahrenheit in celsius 37.77777777777778\n"
     ]
    }
   ],
   "source": [
    "value=int(input(\"Enter the 1st number: \"))\n",
    "kelvin=273.5 + ((value - 32.0) * (5.0/9.0))\n",
    "celsius = (value - 32) * 5.0/9.0\n",
    "print(\"fahrenheit in Kelvin\",kelvin)\n",
    "print(\"fahrenheit in celsius\",celsius)"
   ]
  },
  {
   "cell_type": "code",
   "execution_count": 6,
   "metadata": {},
   "outputs": [
    {
     "name": "stdout",
     "output_type": "stream",
     "text": [
      "<class 'int'>\n",
      "<class 'float'>\n",
      "<class 'complex'>\n",
      "<class 'str'>\n",
      "<class 'list'>\n",
      "<class 'tuple'>\n",
      "<class 'dict'>\n",
      "<class 'bool'>\n",
      "<class 'frozenset'>\n",
      "<class 'bytes'>\n",
      "<class 'bytearray'>\n",
      "<class 'range'>\n",
      "<class 'memoryview'>\n"
     ]
    }
   ],
   "source": [
    "print(type(1234567))\n",
    "print(type(24.05))\n",
    "print(type(6+4j))\n",
    "print(type(\"hello letsupgrade\"))\n",
    "print(type([\"AI\",\"ML\",\"DL\"]))\n",
    "print(type((1,2,3,4,5,6)))\n",
    "print(type({1:\"ABC\", 2:\"DEF\", 3:\"GHI\"}))\n",
    "print(type(True))\n",
    "print(type(frozenset({\"AI\", \"ML\", \"DL\"})))\n",
    "print(type(b\"Praveen\"))\n",
    "print(type(bytearray(10)))\n",
    "print(type(range(20)))\n",
    "print(type(memoryview(bytes(2))))"
   ]
  },
  {
   "cell_type": "markdown",
   "metadata": {},
   "source": [
    "register github and upload files inthe repository as .ipynb file"
   ]
  },
  {
   "cell_type": "code",
   "execution_count": null,
   "metadata": {},
   "outputs": [],
   "source": []
  }
 ],
 "metadata": {
  "kernelspec": {
   "display_name": "Python 3",
   "language": "python",
   "name": "python3"
  },
  "language_info": {
   "codemirror_mode": {
    "name": "ipython",
    "version": 3
   },
   "file_extension": ".py",
   "mimetype": "text/x-python",
   "name": "python",
   "nbconvert_exporter": "python",
   "pygments_lexer": "ipython3",
   "version": "3.7.6"
  }
 },
 "nbformat": 4,
 "nbformat_minor": 4
}
